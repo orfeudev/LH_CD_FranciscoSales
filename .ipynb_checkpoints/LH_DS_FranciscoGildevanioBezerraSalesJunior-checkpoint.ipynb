{
 "cells": [
  {
   "cell_type": "markdown",
   "id": "4fa063b5-6b2b-4e68-8248-1e86a483d6f3",
   "metadata": {},
   "source": [
    "# Case analítico: Desafio de ciência de dados Lighthouse/Indicium  "
   ]
  },
  {
   "cell_type": "markdown",
   "id": "6f64c6b6-af1e-44d5-9acb-c7cb03a2fbed",
   "metadata": {},
   "source": [
    "# Considerações iniciais do projeto:"
   ]
  },
  {
   "cell_type": "markdown",
   "id": "5c9e3ffa-9e3b-417a-950b-b72ce0e7d592",
   "metadata": {},
   "source": [
    "#### Objetivo:"
   ]
  },
  {
   "cell_type": "markdown",
   "id": "3fdecefa-74c2-4dcf-8ffb-a438c1d7c6f2",
   "metadata": {},
   "source": [
    "Este relatório faz parte de um case analítico proposto como projeto teste para vaga de estágio na INDICIUM para a área de ciência de dados e tem como objetivo analisar um banco de dados cinematográfico(IMDB) para encontrar uma forma de orientar qual o tipo de filme que deve ser o próximo a entrar em fase de desenvolvimento."
   ]
  },
  {
   "cell_type": "markdown",
   "id": "412664b5-d802-4de0-bcea-ff043588d4b1",
   "metadata": {},
   "source": [
    "#### Dicionário dos dados:"
   ]
  },
  {
   "cell_type": "markdown",
   "id": "cd153680-d561-4bee-aa0b-fc4dfc46f989",
   "metadata": {},
   "source": [
    "aqui estão as colunas que iremos trabalhar neste projeto e o significado de cada uma das variáveis nelas contidas."
   ]
  },
  {
   "cell_type": "markdown",
   "id": "82678285-e4ad-4b48-9e48-ee80c1acb3ef",
   "metadata": {},
   "source": [
    "| Coluna         | Descrição                                   |\n",
    "|----------------|--------------------------------------------|\n",
    "| Genre          | Gênero do filme                             |\n",
    "| IMDB_Rating    | Nota do IMDB                                |\n",
    "| Overview       | Overview do filme                           |\n",
    "| Meta_score     | Média ponderada de todas as críticas       |\n",
    "| Director       | Diretor do filme                            |\n",
    "| Star1          | Ator/atriz principal #1                     |\n",
    "| Star2          | Ator/atriz principal #2                     |\n",
    "| Star3          | Ator/atriz principal #3                     |\n",
    "| Star4          | Ator/atriz principal #4                     |\n",
    "| No_of_Votes    | Número de votos                             |\n",
    "| Gross          | Faturamento do filme                        |\n"
   ]
  },
  {
   "cell_type": "markdown",
   "id": "6c8ab207-2dd7-4320-9ef7-04be78aa7964",
   "metadata": {},
   "source": [
    "## 1.0 Carregando bibliotecas que serão utilizadas na primeira parte do projeto(EDA):"
   ]
  },
  {
   "cell_type": "code",
   "execution_count": 131,
   "id": "a10cd5a6-cd67-4bf0-a032-2ac94d723380",
   "metadata": {},
   "outputs": [],
   "source": [
    "#bibliotecas\n",
    "import pandas as pd\n",
    "import os\n",
    "import seaborn as sns\n",
    "import matplotlib.pyplot as plt\n",
    "from IPython.display import display\n",
    "import numpy as np\n",
    "from collections import Counter\n",
    "\n",
    "#estilo adotado no seaborn para cores e estilização dos gráficos\n",
    "sns.set(style=\"white\")"
   ]
  },
  {
   "cell_type": "markdown",
   "id": "770db804-eab3-4dd0-bcf3-9de3897285d9",
   "metadata": {},
   "source": [
    "#### 1.1 configurando o caminho do csv"
   ]
  },
  {
   "cell_type": "code",
   "execution_count": 63,
   "id": "83906475-06a1-473f-9d08-771346b4f6fa",
   "metadata": {},
   "outputs": [],
   "source": [
    "#caminho para a pasta\n",
    "path = \"C:/Users/orfeu/Desktop/LH_DC_Project/data\""
   ]
  },
  {
   "cell_type": "code",
   "execution_count": 105,
   "id": "68ad89b2-ed5b-4c5b-9305-efe56b064dd3",
   "metadata": {},
   "outputs": [],
   "source": [
    "#leitura do dataset que será utilizado\n",
    "df = pd.read_csv(os.path.join(path, 'desafio_indicium_imdb.csv'))"
   ]
  },
  {
   "cell_type": "markdown",
   "id": "6f6c8db0-ff19-402a-a44f-43ff0312156c",
   "metadata": {},
   "source": [
    "## 2.0 Exploração inicial dos dados:"
   ]
  },
  {
   "cell_type": "markdown",
   "id": "1ce861dc-f5e1-4097-bcc1-a7155340fc8e",
   "metadata": {},
   "source": [
    "#### 2.1 três primeiras linhas da tabela:"
   ]
  },
  {
   "cell_type": "code",
   "execution_count": 107,
   "id": "713a874f-55cd-4885-b534-1745da23076b",
   "metadata": {},
   "outputs": [
    {
     "data": {
      "text/html": [
       "<div>\n",
       "<style scoped>\n",
       "    .dataframe tbody tr th:only-of-type {\n",
       "        vertical-align: middle;\n",
       "    }\n",
       "\n",
       "    .dataframe tbody tr th {\n",
       "        vertical-align: top;\n",
       "    }\n",
       "\n",
       "    .dataframe thead th {\n",
       "        text-align: right;\n",
       "    }\n",
       "</style>\n",
       "<table border=\"1\" class=\"dataframe\">\n",
       "  <thead>\n",
       "    <tr style=\"text-align: right;\">\n",
       "      <th></th>\n",
       "      <th>Unnamed: 0</th>\n",
       "      <th>Series_Title</th>\n",
       "      <th>Released_Year</th>\n",
       "      <th>Certificate</th>\n",
       "      <th>Runtime</th>\n",
       "      <th>Genre</th>\n",
       "      <th>IMDB_Rating</th>\n",
       "      <th>Overview</th>\n",
       "      <th>Meta_score</th>\n",
       "      <th>Director</th>\n",
       "      <th>Star1</th>\n",
       "      <th>Star2</th>\n",
       "      <th>Star3</th>\n",
       "      <th>Star4</th>\n",
       "      <th>No_of_Votes</th>\n",
       "      <th>Gross</th>\n",
       "    </tr>\n",
       "  </thead>\n",
       "  <tbody>\n",
       "    <tr>\n",
       "      <th>0</th>\n",
       "      <td>1</td>\n",
       "      <td>The Godfather</td>\n",
       "      <td>1972</td>\n",
       "      <td>A</td>\n",
       "      <td>175 min</td>\n",
       "      <td>Crime, Drama</td>\n",
       "      <td>9.2</td>\n",
       "      <td>An organized crime dynasty's aging patriarch t...</td>\n",
       "      <td>100.0</td>\n",
       "      <td>Francis Ford Coppola</td>\n",
       "      <td>Marlon Brando</td>\n",
       "      <td>Al Pacino</td>\n",
       "      <td>James Caan</td>\n",
       "      <td>Diane Keaton</td>\n",
       "      <td>1620367</td>\n",
       "      <td>134,966,411</td>\n",
       "    </tr>\n",
       "    <tr>\n",
       "      <th>1</th>\n",
       "      <td>2</td>\n",
       "      <td>The Dark Knight</td>\n",
       "      <td>2008</td>\n",
       "      <td>UA</td>\n",
       "      <td>152 min</td>\n",
       "      <td>Action, Crime, Drama</td>\n",
       "      <td>9.0</td>\n",
       "      <td>When the menace known as the Joker wreaks havo...</td>\n",
       "      <td>84.0</td>\n",
       "      <td>Christopher Nolan</td>\n",
       "      <td>Christian Bale</td>\n",
       "      <td>Heath Ledger</td>\n",
       "      <td>Aaron Eckhart</td>\n",
       "      <td>Michael Caine</td>\n",
       "      <td>2303232</td>\n",
       "      <td>534,858,444</td>\n",
       "    </tr>\n",
       "    <tr>\n",
       "      <th>2</th>\n",
       "      <td>3</td>\n",
       "      <td>The Godfather: Part II</td>\n",
       "      <td>1974</td>\n",
       "      <td>A</td>\n",
       "      <td>202 min</td>\n",
       "      <td>Crime, Drama</td>\n",
       "      <td>9.0</td>\n",
       "      <td>The early life and career of Vito Corleone in ...</td>\n",
       "      <td>90.0</td>\n",
       "      <td>Francis Ford Coppola</td>\n",
       "      <td>Al Pacino</td>\n",
       "      <td>Robert De Niro</td>\n",
       "      <td>Robert Duvall</td>\n",
       "      <td>Diane Keaton</td>\n",
       "      <td>1129952</td>\n",
       "      <td>57,300,000</td>\n",
       "    </tr>\n",
       "  </tbody>\n",
       "</table>\n",
       "</div>"
      ],
      "text/plain": [
       "   Unnamed: 0            Series_Title Released_Year Certificate  Runtime  \\\n",
       "0           1           The Godfather          1972           A  175 min   \n",
       "1           2         The Dark Knight          2008          UA  152 min   \n",
       "2           3  The Godfather: Part II          1974           A  202 min   \n",
       "\n",
       "                  Genre  IMDB_Rating  \\\n",
       "0          Crime, Drama          9.2   \n",
       "1  Action, Crime, Drama          9.0   \n",
       "2          Crime, Drama          9.0   \n",
       "\n",
       "                                            Overview  Meta_score  \\\n",
       "0  An organized crime dynasty's aging patriarch t...       100.0   \n",
       "1  When the menace known as the Joker wreaks havo...        84.0   \n",
       "2  The early life and career of Vito Corleone in ...        90.0   \n",
       "\n",
       "               Director           Star1           Star2          Star3  \\\n",
       "0  Francis Ford Coppola   Marlon Brando       Al Pacino     James Caan   \n",
       "1     Christopher Nolan  Christian Bale    Heath Ledger  Aaron Eckhart   \n",
       "2  Francis Ford Coppola       Al Pacino  Robert De Niro  Robert Duvall   \n",
       "\n",
       "           Star4  No_of_Votes        Gross  \n",
       "0   Diane Keaton      1620367  134,966,411  \n",
       "1  Michael Caine      2303232  534,858,444  \n",
       "2   Diane Keaton      1129952   57,300,000  "
      ]
     },
     "metadata": {},
     "output_type": "display_data"
    }
   ],
   "source": [
    "display(df.head(3))"
   ]
  },
  {
   "cell_type": "markdown",
   "id": "d3f454d2-2a41-4d33-98f9-231f92a124d7",
   "metadata": {},
   "source": [
    "#### 2.2 informações gerais da tabela"
   ]
  },
  {
   "cell_type": "code",
   "execution_count": 113,
   "id": "185298f6-bcf5-4691-87cc-130a7643850b",
   "metadata": {},
   "outputs": [
    {
     "name": "stdout",
     "output_type": "stream",
     "text": [
      "<class 'pandas.core.frame.DataFrame'>\n",
      "RangeIndex: 999 entries, 0 to 998\n",
      "Data columns (total 16 columns):\n",
      " #   Column         Non-Null Count  Dtype  \n",
      "---  ------         --------------  -----  \n",
      " 0   Unnamed: 0     999 non-null    int64  \n",
      " 1   Series_Title   999 non-null    object \n",
      " 2   Released_Year  999 non-null    object \n",
      " 3   Certificate    898 non-null    object \n",
      " 4   Runtime        999 non-null    object \n",
      " 5   Genre          999 non-null    object \n",
      " 6   IMDB_Rating    999 non-null    float64\n",
      " 7   Overview       999 non-null    object \n",
      " 8   Meta_score     842 non-null    float64\n",
      " 9   Director       999 non-null    object \n",
      " 10  Star1          999 non-null    object \n",
      " 11  Star2          999 non-null    object \n",
      " 12  Star3          999 non-null    object \n",
      " 13  Star4          999 non-null    object \n",
      " 14  No_of_Votes    999 non-null    int64  \n",
      " 15  Gross          830 non-null    object \n",
      "dtypes: float64(2), int64(2), object(12)\n",
      "memory usage: 125.0+ KB\n"
     ]
    },
    {
     "data": {
      "text/plain": [
       "None"
      ]
     },
     "metadata": {},
     "output_type": "display_data"
    }
   ],
   "source": [
    "display(df.info())"
   ]
  },
  {
   "cell_type": "markdown",
   "id": "d9cc5e6e-7830-4c24-84f2-bf5d21b38934",
   "metadata": {},
   "source": [
    "#### 2.3 descrição dos dados:"
   ]
  },
  {
   "cell_type": "code",
   "execution_count": 207,
   "id": "ae2504f1-87b1-4f83-a654-189e49dfe85f",
   "metadata": {},
   "outputs": [
    {
     "data": {
      "text/html": [
       "<div>\n",
       "<style scoped>\n",
       "    .dataframe tbody tr th:only-of-type {\n",
       "        vertical-align: middle;\n",
       "    }\n",
       "\n",
       "    .dataframe tbody tr th {\n",
       "        vertical-align: top;\n",
       "    }\n",
       "\n",
       "    .dataframe thead th {\n",
       "        text-align: right;\n",
       "    }\n",
       "</style>\n",
       "<table border=\"1\" class=\"dataframe\">\n",
       "  <thead>\n",
       "    <tr style=\"text-align: right;\">\n",
       "      <th></th>\n",
       "      <th>Unnamed: 0</th>\n",
       "      <th>Released_Year</th>\n",
       "      <th>IMDB_Rating</th>\n",
       "      <th>Meta_score</th>\n",
       "      <th>No_of_Votes</th>\n",
       "      <th>Gross</th>\n",
       "      <th>Runtime_min</th>\n",
       "      <th>Decade</th>\n",
       "      <th>Decada</th>\n",
       "    </tr>\n",
       "  </thead>\n",
       "  <tbody>\n",
       "    <tr>\n",
       "      <th>count</th>\n",
       "      <td>999.000000</td>\n",
       "      <td>998.000000</td>\n",
       "      <td>999.000000</td>\n",
       "      <td>842.000000</td>\n",
       "      <td>9.990000e+02</td>\n",
       "      <td>8.300000e+02</td>\n",
       "      <td>999.000000</td>\n",
       "      <td>998.000000</td>\n",
       "      <td>998.000000</td>\n",
       "    </tr>\n",
       "    <tr>\n",
       "      <th>mean</th>\n",
       "      <td>500.000000</td>\n",
       "      <td>1991.214429</td>\n",
       "      <td>7.947948</td>\n",
       "      <td>77.969121</td>\n",
       "      <td>2.716214e+05</td>\n",
       "      <td>6.808257e+07</td>\n",
       "      <td>122.871872</td>\n",
       "      <td>1986.583166</td>\n",
       "      <td>1986.583166</td>\n",
       "    </tr>\n",
       "    <tr>\n",
       "      <th>std</th>\n",
       "      <td>288.530761</td>\n",
       "      <td>23.308539</td>\n",
       "      <td>0.272290</td>\n",
       "      <td>12.383257</td>\n",
       "      <td>3.209126e+05</td>\n",
       "      <td>1.098076e+08</td>\n",
       "      <td>28.101227</td>\n",
       "      <td>23.200504</td>\n",
       "      <td>23.200504</td>\n",
       "    </tr>\n",
       "    <tr>\n",
       "      <th>min</th>\n",
       "      <td>1.000000</td>\n",
       "      <td>1920.000000</td>\n",
       "      <td>7.600000</td>\n",
       "      <td>28.000000</td>\n",
       "      <td>2.508800e+04</td>\n",
       "      <td>1.305000e+03</td>\n",
       "      <td>45.000000</td>\n",
       "      <td>1920.000000</td>\n",
       "      <td>1920.000000</td>\n",
       "    </tr>\n",
       "    <tr>\n",
       "      <th>25%</th>\n",
       "      <td>250.500000</td>\n",
       "      <td>1976.000000</td>\n",
       "      <td>7.700000</td>\n",
       "      <td>70.000000</td>\n",
       "      <td>5.547150e+04</td>\n",
       "      <td>3.245338e+06</td>\n",
       "      <td>103.000000</td>\n",
       "      <td>1970.000000</td>\n",
       "      <td>1970.000000</td>\n",
       "    </tr>\n",
       "    <tr>\n",
       "      <th>50%</th>\n",
       "      <td>500.000000</td>\n",
       "      <td>1999.000000</td>\n",
       "      <td>7.900000</td>\n",
       "      <td>79.000000</td>\n",
       "      <td>1.383560e+05</td>\n",
       "      <td>2.345744e+07</td>\n",
       "      <td>119.000000</td>\n",
       "      <td>1990.000000</td>\n",
       "      <td>1990.000000</td>\n",
       "    </tr>\n",
       "    <tr>\n",
       "      <th>75%</th>\n",
       "      <td>749.500000</td>\n",
       "      <td>2009.000000</td>\n",
       "      <td>8.100000</td>\n",
       "      <td>87.000000</td>\n",
       "      <td>3.731675e+05</td>\n",
       "      <td>8.087634e+07</td>\n",
       "      <td>137.000000</td>\n",
       "      <td>2000.000000</td>\n",
       "      <td>2000.000000</td>\n",
       "    </tr>\n",
       "    <tr>\n",
       "      <th>max</th>\n",
       "      <td>999.000000</td>\n",
       "      <td>2020.000000</td>\n",
       "      <td>9.200000</td>\n",
       "      <td>100.000000</td>\n",
       "      <td>2.303232e+06</td>\n",
       "      <td>9.366622e+08</td>\n",
       "      <td>321.000000</td>\n",
       "      <td>2020.000000</td>\n",
       "      <td>2020.000000</td>\n",
       "    </tr>\n",
       "  </tbody>\n",
       "</table>\n",
       "</div>"
      ],
      "text/plain": [
       "       Unnamed: 0  Released_Year  IMDB_Rating  Meta_score   No_of_Votes  \\\n",
       "count  999.000000     998.000000   999.000000  842.000000  9.990000e+02   \n",
       "mean   500.000000    1991.214429     7.947948   77.969121  2.716214e+05   \n",
       "std    288.530761      23.308539     0.272290   12.383257  3.209126e+05   \n",
       "min      1.000000    1920.000000     7.600000   28.000000  2.508800e+04   \n",
       "25%    250.500000    1976.000000     7.700000   70.000000  5.547150e+04   \n",
       "50%    500.000000    1999.000000     7.900000   79.000000  1.383560e+05   \n",
       "75%    749.500000    2009.000000     8.100000   87.000000  3.731675e+05   \n",
       "max    999.000000    2020.000000     9.200000  100.000000  2.303232e+06   \n",
       "\n",
       "              Gross  Runtime_min       Decade       Decada  \n",
       "count  8.300000e+02   999.000000   998.000000   998.000000  \n",
       "mean   6.808257e+07   122.871872  1986.583166  1986.583166  \n",
       "std    1.098076e+08    28.101227    23.200504    23.200504  \n",
       "min    1.305000e+03    45.000000  1920.000000  1920.000000  \n",
       "25%    3.245338e+06   103.000000  1970.000000  1970.000000  \n",
       "50%    2.345744e+07   119.000000  1990.000000  1990.000000  \n",
       "75%    8.087634e+07   137.000000  2000.000000  2000.000000  \n",
       "max    9.366622e+08   321.000000  2020.000000  2020.000000  "
      ]
     },
     "metadata": {},
     "output_type": "display_data"
    }
   ],
   "source": [
    "display(df.describe())"
   ]
  },
  {
   "cell_type": "markdown",
   "id": "31354e8c-da35-4ac4-984a-dbfa09ad807d",
   "metadata": {},
   "source": [
    "#### 2.4 contagem de dados nulos na tabela:"
   ]
  },
  {
   "cell_type": "code",
   "execution_count": 115,
   "id": "48850d97-1fb5-44ff-869a-3792560c4282",
   "metadata": {},
   "outputs": [
    {
     "data": {
      "text/plain": [
       "Unnamed: 0         0\n",
       "Series_Title       0\n",
       "Released_Year      0\n",
       "Certificate      101\n",
       "Runtime            0\n",
       "Genre              0\n",
       "IMDB_Rating        0\n",
       "Overview           0\n",
       "Meta_score       157\n",
       "Director           0\n",
       "Star1              0\n",
       "Star2              0\n",
       "Star3              0\n",
       "Star4              0\n",
       "No_of_Votes        0\n",
       "Gross            169\n",
       "dtype: int64"
      ]
     },
     "metadata": {},
     "output_type": "display_data"
    }
   ],
   "source": [
    "display(df.isnull().sum())"
   ]
  },
  {
   "cell_type": "markdown",
   "id": "d00d977d-bc3c-4829-aba8-84ea323b9bfc",
   "metadata": {},
   "source": [
    "#### 2.5 quantos filmes estão duplicados na tabela:"
   ]
  },
  {
   "cell_type": "code",
   "execution_count": 209,
   "id": "c831fc54-a17d-49c9-ad7d-2f78b187aff5",
   "metadata": {},
   "outputs": [
    {
     "name": "stdout",
     "output_type": "stream",
     "text": [
      "Filmes duplicados encontrados: 1\n"
     ]
    }
   ],
   "source": [
    "duplicados = df.duplicated(subset=[\"Series_Title\"]).sum()\n",
    "print(f\"Filmes duplicados encontrados: {duplicados}\")"
   ]
  },
  {
   "cell_type": "markdown",
   "id": "61803362-c061-40c3-a086-a3da8027d2aa",
   "metadata": {},
   "source": [
    "## 3.0 Tratamento inicial dos dados:"
   ]
  },
  {
   "cell_type": "markdown",
   "id": "0dba4536-a0ce-44f2-94c9-d40e50709625",
   "metadata": {},
   "source": [
    "#### 3.1 Transformando o ano para número inteiro:"
   ]
  },
  {
   "cell_type": "code",
   "execution_count": 119,
   "id": "b3f84184-805a-471a-b631-312416547d3d",
   "metadata": {},
   "outputs": [],
   "source": [
    "df[\"Released_Year\"] = pd.to_numeric(df[\"Released_Year\"], errors=\"coerce\")"
   ]
  },
  {
   "cell_type": "markdown",
   "id": "cc1d567b-72a7-46b4-9952-1d257863001b",
   "metadata": {},
   "source": [
    "#### 3.2 pegar apenas o runtime(tempo de duração) dofilme:"
   ]
  },
  {
   "cell_type": "code",
   "execution_count": 123,
   "id": "404ee8d8-22e0-41a2-9b1a-651c04a79e2e",
   "metadata": {},
   "outputs": [],
   "source": [
    "df[\"Runtime_min\"] = df[\"Runtime\"].str.replace(\" min\", \"\").astype(float)"
   ]
  },
  {
   "cell_type": "markdown",
   "id": "ad4fc2ac-9420-4477-b853-c75c08dc7209",
   "metadata": {},
   "source": [
    "#### 3.3 convertendo a coluna de faturamento(gross) para numérica(remoção das vírgulas)"
   ]
  },
  {
   "cell_type": "code",
   "execution_count": 126,
   "id": "979502b5-6a59-4bb5-bef3-68bf6d07f730",
   "metadata": {},
   "outputs": [],
   "source": [
    "df[\"Gross\"] = df[\"Gross\"].str.replace(\",\", \"\")\n",
    "df[\"Gross\"] = pd.to_numeric(df[\"Gross\"], errors=\"coerce\")"
   ]
  },
  {
   "cell_type": "markdown",
   "id": "f9d99664-2b9a-42c3-a585-2fb98a0bb32d",
   "metadata": {},
   "source": [
    "#### 3.4 quebrando os generos de cada filme(as vezes um filme pode ter mais de um genero)"
   ]
  },
  {
   "cell_type": "code",
   "execution_count": 133,
   "id": "abd207b4-60ac-4148-b9ed-3f331f8dcf82",
   "metadata": {},
   "outputs": [],
   "source": [
    "genres = df[\"Genre\"].dropna().str.split(\", \")\n",
    "todos_generos = [g for lista in genres for g in lista]\n",
    "contagem_generos = Counter(todos_generos)"
   ]
  },
  {
   "cell_type": "markdown",
   "id": "1cbd47a8-2dd3-45c0-abc9-d00cc26d7cd5",
   "metadata": {},
   "source": [
    "#### 3.5 Criando uma coluna com a década em que o filme foi lançado:"
   ]
  },
  {
   "cell_type": "code",
   "execution_count": 145,
   "id": "69c8175b-cc86-4301-a56a-ef33ca4961c9",
   "metadata": {},
   "outputs": [],
   "source": [
    "# Aqui eu achei necessário pois pretendo fazer uma\n",
    "# correlação da década que o filme foi lançado e seu faturamento,\n",
    "# a nível de reconhecimento dos dados\n",
    "df[\"Decada\"] = (df[\"Released_Year\"] // 10) * 10"
   ]
  },
  {
   "cell_type": "markdown",
   "id": "5862f982-73e5-49ed-9a17-8504be709e73",
   "metadata": {},
   "source": [
    "#### 3.6 tratando dados duplicados:"
   ]
  },
  {
   "cell_type": "code",
   "execution_count": 212,
   "id": "c0109cbf-05da-42e3-b21e-7813742d29a5",
   "metadata": {},
   "outputs": [
    {
     "name": "stdout",
     "output_type": "stream",
     "text": [
      "Duplicados removidos.\n"
     ]
    },
    {
     "data": {
      "text/plain": [
       "Gross            169\n",
       "Meta_score       156\n",
       "Certificate      101\n",
       "Decada             1\n",
       "Released_Year      1\n",
       "Decade             1\n",
       "Star2              0\n",
       "Runtime_min        0\n",
       "No_of_Votes        0\n",
       "Star4              0\n",
       "Star3              0\n",
       "Unnamed: 0         0\n",
       "Star1              0\n",
       "Series_Title       0\n",
       "Overview           0\n",
       "IMDB_Rating        0\n",
       "Genre              0\n",
       "Runtime            0\n",
       "Director           0\n",
       "dtype: int64"
      ]
     },
     "metadata": {},
     "output_type": "display_data"
    },
    {
     "data": {
      "text/plain": [
       "Gross            16.93\n",
       "Meta_score       15.63\n",
       "Certificate      10.12\n",
       "Decada            0.10\n",
       "Released_Year     0.10\n",
       "Decade            0.10\n",
       "Star2             0.00\n",
       "Runtime_min       0.00\n",
       "No_of_Votes       0.00\n",
       "Star4             0.00\n",
       "Star3             0.00\n",
       "Unnamed: 0        0.00\n",
       "Star1             0.00\n",
       "Series_Title      0.00\n",
       "Overview          0.00\n",
       "IMDB_Rating       0.00\n",
       "Genre             0.00\n",
       "Runtime           0.00\n",
       "Director          0.00\n",
       "dtype: float64"
      ]
     },
     "metadata": {},
     "output_type": "display_data"
    }
   ],
   "source": [
    "if duplicados > 0:\n",
    "    df = df.drop_duplicates(subset=[\"Series_Title\"], keep=\"first\")\n",
    "    print(\"Duplicados removidos.\")\n",
    "\n",
    "nulos = df.isnull().sum().sort_values(ascending=False)\n",
    "display(nulos)\n",
    "\n",
    "pct_nulos = (df.isnull().mean()*100).sort_values(ascending=False).round(2)\n",
    "display(pct_nulos)"
   ]
  },
  {
   "cell_type": "markdown",
   "id": "2de51144-546a-4a30-a09a-7128a2788941",
   "metadata": {},
   "source": [
    "#### 3.7 removendo registros críticos(onde não há ano, duração, nota ou votos):"
   ]
  },
  {
   "cell_type": "code",
   "execution_count": 218,
   "id": "99b708e6-5142-43a0-9bd4-297d03a7704a",
   "metadata": {},
   "outputs": [
    {
     "name": "stdout",
     "output_type": "stream",
     "text": [
      "Registros sem ano/duração/nota/votos foram removidos.\n"
     ]
    }
   ],
   "source": [
    "df = df.dropna(subset=[\"Released_Year\",\"Runtime\",\"IMDB_Rating\",\"No_of_Votes\"])\n",
    "print(\"Registros sem ano/duração/nota/votos foram removidos.\")"
   ]
  },
  {
   "cell_type": "markdown",
   "id": "42a6b4d4-b89c-4306-834d-6acdf4f2a952",
   "metadata": {},
   "source": [
    "#### 3.8 checando o df:"
   ]
  },
  {
   "cell_type": "code",
   "execution_count": 222,
   "id": "1638696b-18ef-4359-9855-6f50c88f7cb0",
   "metadata": {},
   "outputs": [
    {
     "data": {
      "text/plain": [
       "'Linhas: 997'"
      ]
     },
     "metadata": {},
     "output_type": "display_data"
    },
    {
     "data": {
      "text/plain": [
       "'Colunas: 19'"
      ]
     },
     "metadata": {},
     "output_type": "display_data"
    }
   ],
   "source": [
    "linhas, colunas = df.shape\n",
    "display(f\"Linhas: {linhas}\")\n",
    "display(f\"Colunas: {colunas}\")"
   ]
  },
  {
   "cell_type": "markdown",
   "id": "c1895034-ef7b-43eb-add9-67824deabca6",
   "metadata": {},
   "source": [
    "## 4.0 Distribuição das variáveis numéricas:"
   ]
  },
  {
   "cell_type": "markdown",
   "id": "2a77c873-775e-4b61-a89e-4831749fdda3",
   "metadata": {},
   "source": [
    "Aqui torna-se necessário olhar a forma das distribuições das principais variáveis numéricas do conjunto. Isso ajudará a entender se temos dados concentrados, assimétricos, com outliers ou qualquer outro atributo que necessite de atenção."
   ]
  },
  {
   "cell_type": "markdown",
   "id": "70e1fcb0-8738-4ec2-920b-60d42bdb7b75",
   "metadata": {},
   "source": [
    "#### 4.1 Notas do IMDB:"
   ]
  },
  {
   "cell_type": "code",
   "execution_count": 228,
   "id": "24b145cc-155c-459c-b92a-a33d90c2a6ed",
   "metadata": {},
   "outputs": [
    {
     "data": {
      "image/png": "[encoded data removed]",
      "text/plain": [
       "<Figure size 640x480 with 1 Axes>"
      ]
     },
     "metadata": {},
     "output_type": "display_data"
    }
   ],
   "source": [
    "plt.hist(df[\"IMDB_Rating\"].dropna(), bins=30)\n",
    "plt.title(\"Distribuição das notas do IMDB\")\n",
    "plt.xlabel(\"Nota IMDB\")\n",
    "plt.ylabel(\"Frequência\")\n",
    "plt.show()"
   ]
  },
  {
   "cell_type": "markdown",
   "id": "84178dfd-e713-4980-a0ff-664ae276b686",
   "metadata": {},
   "source": [
    "#### 4.2 Número de votos:"
   ]
  },
  {
   "cell_type": "code",
   "execution_count": 226,
   "id": "e4a14fae-31a6-46ab-bc2e-8561e8a1446e",
   "metadata": {},
   "outputs": [
    {
     "data": {
      "image/png": "[encoded data removed]",
      "text/plain": [
       "<Figure size 640x480 with 1 Axes>"
      ]
     },
     "metadata": {},
     "output_type": "display_data"
    }
   ],
   "source": [
    "plt.hist(df[\"No_of_Votes\"].dropna(), bins=30)\n",
    "plt.title(\"Distribuição do número de votos\")\n",
    "plt.xlabel(\"Quantidade de votos\")\n",
    "plt.ylabel(\"Frequência\")\n",
    "plt.show()"
   ]
  },
  {
   "cell_type": "markdown",
   "id": "fa04a7e4-7ef0-4220-8999-30cd7746c3d1",
   "metadata": {},
   "source": [
    "#### 4.3 Faturamento(Gross, que foi colocado em log):"
   ]
  },
  {
   "cell_type": "code",
   "execution_count": 232,
   "id": "ae44a15f-b09f-4e03-be85-fa06c6cf3701",
   "metadata": {},
   "outputs": [
    {
     "data": {
      "image/png": "[encoded data removed]",
      "text/plain": [
       "<Figure size 640x480 with 1 Axes>"
      ]
     },
     "metadata": {},
     "output_type": "display_data"
    }
   ],
   "source": [
    "plt.hist(np.log1p(df[\"Gross\"].dropna()), bins=30)\n",
    "plt.title(\"Distribuição da bilheteria (log)\")\n",
    "plt.xlabel(\"log(Gross)\")\n",
    "plt.ylabel(\"Frequência\")\n",
    "plt.show()"
   ]
  },
  {
   "cell_type": "markdown",
   "id": "4e92d7e1-441b-4db9-bdb7-7f3d40ca44ca",
   "metadata": {},
   "source": [
    "#### 4.4 Tempo de Duração(runtime):"
   ]
  },
  {
   "cell_type": "code",
   "execution_count": 234,
   "id": "9dd733e1-b704-49ed-a98a-f82f40ae5610",
   "metadata": {},
   "outputs": [
    {
     "data": {
      "image/png": "[encoded data removed]",
      "text/plain": [
       "<Figure size 640x480 with 1 Axes>"
      ]
     },
     "metadata": {},
     "output_type": "display_data"
    }
   ],
   "source": [
    "plt.hist(df[\"Runtime_min\"].dropna(), bins=30)\n",
    "plt.title(\"Distribuição do tempo de duração\")\n",
    "plt.xlabel(\"Minutos\")\n",
    "plt.ylabel(\"Frequência\")\n",
    "plt.show()"
   ]
  },
  {
   "cell_type": "markdown",
   "id": "d8091813-b944-4758-b82a-dcf5cbc3da36",
   "metadata": {},
   "source": [
    "## 5.0 Correlação entre as variáveis"
   ]
  },
  {
   "cell_type": "markdown",
   "id": "fe210f34-4bbb-4ef9-b7e2-d2ba2f9e20af",
   "metadata": {},
   "source": [
    "#### 5.1"
   ]
  },
  {
   "cell_type": "markdown",
   "id": "a3936df8-4fb6-4b12-982a-6768f6d320aa",
   "metadata": {},
   "source": [
    "#### 5.2"
   ]
  },
  {
   "cell_type": "markdown",
   "id": "103e684b-3c5e-4dbb-a0c9-5583bcdfae03",
   "metadata": {},
   "source": [
    "#### 5.3"
   ]
  },
  {
   "cell_type": "markdown",
   "id": "153632e9-1a9b-46fd-9161-f8f4fc4dffe8",
   "metadata": {},
   "source": [
    "#### 5.4"
   ]
  },
  {
   "cell_type": "markdown",
   "id": "a55cfc27-a679-4b02-bfc9-c1c0c91a4de1",
   "metadata": {},
   "source": [
    "#### 5.5 Análise multivariada: Nota IMDB vs. Faturamento vs. Década"
   ]
  },
  {
   "cell_type": "markdown",
   "id": "fd4f1dd6-9f56-48b2-a78f-9e33c24f56e9",
   "metadata": {},
   "source": [
    "## 6.0 Análise por Gênero Cinematográfico:"
   ]
  },
  {
   "cell_type": "markdown",
   "id": "3ced58ed-b8f6-40f0-8498-ae829f79ff25",
   "metadata": {},
   "source": [
    "#### 6.1 Frequência dos gêneros mais comuns:"
   ]
  },
  {
   "cell_type": "markdown",
   "id": "453fa6f5-ffcc-48e1-9b48-33cd0bbeb576",
   "metadata": {},
   "source": [
    "#### 6.2 Nota média por gênero:"
   ]
  },
  {
   "cell_type": "markdown",
   "id": "33c49879-0028-4e0c-89bc-8d2f570a3bb7",
   "metadata": {},
   "source": [
    "#### 6.3 Evolução do faturamento mediano ao longo das décadas por gênero(?)"
   ]
  },
  {
   "cell_type": "markdown",
   "id": "2d99a4cb-dd61-4dae-a621-46e7f6cf6282",
   "metadata": {},
   "source": [
    "#### 6.4 Faturamento mediano por gênero:"
   ]
  },
  {
   "cell_type": "markdown",
   "id": "716cb243-f573-4634-9528-933c4224338d",
   "metadata": {},
   "source": [
    "## 7.0 Tendências temporais:"
   ]
  },
  {
   "cell_type": "markdown",
   "id": "7efdef8d-fd36-4fed-ba73-cfdfb9cd775b",
   "metadata": {},
   "source": [
    "#### 7.1 filmes lançados por década:"
   ]
  },
  {
   "cell_type": "markdown",
   "id": "89e22ed1-0d88-4fd3-a91a-5ce208707c18",
   "metadata": {},
   "source": [
    "#### 7.2 Evolução da nota média ao longo das décadas por gênero(?)"
   ]
  },
  {
   "cell_type": "markdown",
   "id": "87178696-bd08-496c-ae4a-48a6e9df60a6",
   "metadata": {},
   "source": [
    "#### 7.3 Evolução do faturamento mediano ao longo das décadas por gênero(?)"
   ]
  },
  {
   "cell_type": "markdown",
   "id": "90f92e91-234b-439c-9487-a1a58d038146",
   "metadata": {},
   "source": [
    "## 8.0 Diretores e elenco:"
   ]
  },
  {
   "cell_type": "markdown",
   "id": "ce710a70-7bbc-4c18-9cbc-524651fbd124",
   "metadata": {},
   "source": [
    "#### 8.1 top 15 diretores com mais filmes"
   ]
  },
  {
   "cell_type": "markdown",
   "id": "28c35413-3c34-407f-adae-ae23b0e8b4a9",
   "metadata": {},
   "source": [
    "#### 8.2 top 15 diretores com maior faturamento:"
   ]
  },
  {
   "cell_type": "markdown",
   "id": "1caa5691-81bf-4fd4-ab26-2a5ed1eeb763",
   "metadata": {},
   "source": [
    "#### 8.3 top 15 diretores com as melhores notas:"
   ]
  },
  {
   "cell_type": "code",
   "execution_count": null,
   "id": "64057c11-4d59-443d-a0b9-54c814b18c05",
   "metadata": {},
   "outputs": [],
   "source": []
  }
 ],
 "metadata": {
  "kernelspec": {
   "display_name": "Python [conda env:base] *",
   "language": "python",
   "name": "conda-base-py"
  },
  "language_info": {
   "codemirror_mode": {
    "name": "ipython",
    "version": 3
   },
   "file_extension": ".py",
   "mimetype": "text/x-python",
   "name": "python",
   "nbconvert_exporter": "python",
   "pygments_lexer": "ipython3",
   "version": "3.11.7"
  }
 },
 "nbformat": 4,
 "nbformat_minor": 5
}
