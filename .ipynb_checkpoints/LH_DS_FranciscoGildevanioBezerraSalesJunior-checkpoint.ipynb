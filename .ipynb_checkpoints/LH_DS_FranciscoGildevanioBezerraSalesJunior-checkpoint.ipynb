{
 "cells": [
  {
   "cell_type": "markdown",
   "id": "4fa063b5-6b2b-4e68-8248-1e86a483d6f3",
   "metadata": {},
   "source": [
    "# Case analítico: Desafio de ciência de dados Indicium  "
   ]
  },
  {
   "cell_type": "markdown",
   "id": "6f64c6b6-af1e-44d5-9acb-c7cb03a2fbed",
   "metadata": {},
   "source": [
    "# 0.0 Considerações iniciais do projeto:"
   ]
  },
  {
   "cell_type": "markdown",
   "id": "3fdecefa-74c2-4dcf-8ffb-a438c1d7c6f2",
   "metadata": {},
   "source": [
    "Este relatório faz parte de um case analítico proposto como projeto teste para vaga de estágio na INDICIUM para a área de ciência de dados e tem como objetivo analisar um banco de dados cinematográfico(IMDB) para encontrar uma forma de orientar qual o tipo de filme que deve ser o próximo a entrar em fase de desenvolvimento."
   ]
  },
  {
   "cell_type": "markdown",
   "id": "6c8ab207-2dd7-4320-9ef7-04be78aa7964",
   "metadata": {},
   "source": [
    "## 1.0 Análise exploratória de dados:"
   ]
  }
 ],
 "metadata": {
  "kernelspec": {
   "display_name": "Python [conda env:base] *",
   "language": "python",
   "name": "conda-base-py"
  },
  "language_info": {
   "codemirror_mode": {
    "name": "ipython",
    "version": 3
   },
   "file_extension": ".py",
   "mimetype": "text/x-python",
   "name": "python",
   "nbconvert_exporter": "python",
   "pygments_lexer": "ipython3",
   "version": "3.11.7"
  }
 },
 "nbformat": 4,
 "nbformat_minor": 5
}
